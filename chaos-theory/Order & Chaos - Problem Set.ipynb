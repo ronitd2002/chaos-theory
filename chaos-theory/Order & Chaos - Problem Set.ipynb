{
 "cells": [
  {
   "cell_type": "markdown",
   "id": "706100a7",
   "metadata": {},
   "source": [
    "### Question 2 part 4"
   ]
  },
  {
   "cell_type": "code",
   "execution_count": 2,
   "id": "b99535f5",
   "metadata": {},
   "outputs": [
    {
     "ename": "ModuleNotFoundError",
     "evalue": "No module named 'matplotlib.artist'",
     "output_type": "error",
     "traceback": [
      "\u001b[1;31m---------------------------------------------------------------------------\u001b[0m",
      "\u001b[1;31mModuleNotFoundError\u001b[0m                       Traceback (most recent call last)",
      "Cell \u001b[1;32mIn[2], line 3\u001b[0m\n\u001b[0;32m      1\u001b[0m \u001b[38;5;66;03m# %load phase_space_plot.py\u001b[39;00m\n\u001b[0;32m      2\u001b[0m \u001b[38;5;28;01mimport\u001b[39;00m \u001b[38;5;21;01mnumpy\u001b[39;00m \u001b[38;5;28;01mas\u001b[39;00m \u001b[38;5;21;01mnp\u001b[39;00m\n\u001b[1;32m----> 3\u001b[0m \u001b[38;5;28;01mimport\u001b[39;00m \u001b[38;5;21;01mmatplotlib\u001b[39;00m\u001b[38;5;21;01m.\u001b[39;00m\u001b[38;5;21;01mpyplot\u001b[39;00m \u001b[38;5;28;01mas\u001b[39;00m \u001b[38;5;21;01mplt\u001b[39;00m\n\u001b[0;32m      5\u001b[0m \u001b[38;5;28;01mdef\u001b[39;00m \u001b[38;5;21mdxdt\u001b[39m(x,y):\n\u001b[0;32m      6\u001b[0m     \u001b[38;5;28;01mreturn\u001b[39;00m y\n",
      "File \u001b[1;32m~\\anaconda3\\Lib\\site-packages\\matplotlib\\pyplot.py:52\u001b[0m\n\u001b[0;32m     50\u001b[0m \u001b[38;5;28;01mfrom\u001b[39;00m \u001b[38;5;21;01mcycler\u001b[39;00m \u001b[38;5;28;01mimport\u001b[39;00m cycler\n\u001b[0;32m     51\u001b[0m \u001b[38;5;28;01mimport\u001b[39;00m \u001b[38;5;21;01mmatplotlib\u001b[39;00m\n\u001b[1;32m---> 52\u001b[0m \u001b[38;5;28;01mimport\u001b[39;00m \u001b[38;5;21;01mmatplotlib\u001b[39;00m\u001b[38;5;21;01m.\u001b[39;00m\u001b[38;5;21;01mcolorbar\u001b[39;00m\n\u001b[0;32m     53\u001b[0m \u001b[38;5;28;01mimport\u001b[39;00m \u001b[38;5;21;01mmatplotlib\u001b[39;00m\u001b[38;5;21;01m.\u001b[39;00m\u001b[38;5;21;01mimage\u001b[39;00m\n\u001b[0;32m     54\u001b[0m \u001b[38;5;28;01mfrom\u001b[39;00m \u001b[38;5;21;01mmatplotlib\u001b[39;00m \u001b[38;5;28;01mimport\u001b[39;00m _api\n",
      "File \u001b[1;32m~\\anaconda3\\Lib\\site-packages\\matplotlib\\colorbar.py:19\u001b[0m\n\u001b[0;32m     16\u001b[0m \u001b[38;5;28;01mimport\u001b[39;00m \u001b[38;5;21;01mnumpy\u001b[39;00m \u001b[38;5;28;01mas\u001b[39;00m \u001b[38;5;21;01mnp\u001b[39;00m\n\u001b[0;32m     18\u001b[0m \u001b[38;5;28;01mimport\u001b[39;00m \u001b[38;5;21;01mmatplotlib\u001b[39;00m \u001b[38;5;28;01mas\u001b[39;00m \u001b[38;5;21;01mmpl\u001b[39;00m\n\u001b[1;32m---> 19\u001b[0m \u001b[38;5;28;01mfrom\u001b[39;00m \u001b[38;5;21;01mmatplotlib\u001b[39;00m \u001b[38;5;28;01mimport\u001b[39;00m _api, cbook, collections, cm, colors, contour, ticker\n\u001b[0;32m     20\u001b[0m \u001b[38;5;28;01mimport\u001b[39;00m \u001b[38;5;21;01mmatplotlib\u001b[39;00m\u001b[38;5;21;01m.\u001b[39;00m\u001b[38;5;21;01martist\u001b[39;00m \u001b[38;5;28;01mas\u001b[39;00m \u001b[38;5;21;01mmartist\u001b[39;00m\n\u001b[0;32m     21\u001b[0m \u001b[38;5;28;01mimport\u001b[39;00m \u001b[38;5;21;01mmatplotlib\u001b[39;00m\u001b[38;5;21;01m.\u001b[39;00m\u001b[38;5;21;01mpatches\u001b[39;00m \u001b[38;5;28;01mas\u001b[39;00m \u001b[38;5;21;01mmpatches\u001b[39;00m\n",
      "File \u001b[1;32m~\\anaconda3\\Lib\\site-packages\\matplotlib\\collections.py:19\u001b[0m\n\u001b[0;32m     16\u001b[0m \u001b[38;5;28;01mimport\u001b[39;00m \u001b[38;5;21;01mnumpy\u001b[39;00m \u001b[38;5;28;01mas\u001b[39;00m \u001b[38;5;21;01mnp\u001b[39;00m\n\u001b[0;32m     18\u001b[0m \u001b[38;5;28;01mimport\u001b[39;00m \u001b[38;5;21;01mmatplotlib\u001b[39;00m \u001b[38;5;28;01mas\u001b[39;00m \u001b[38;5;21;01mmpl\u001b[39;00m\n\u001b[1;32m---> 19\u001b[0m \u001b[38;5;28;01mfrom\u001b[39;00m \u001b[38;5;21;01m.\u001b[39;00m \u001b[38;5;28;01mimport\u001b[39;00m (_api, _path, artist, cbook, cm, colors \u001b[38;5;28;01mas\u001b[39;00m mcolors, _docstring,\n\u001b[0;32m     20\u001b[0m                hatch \u001b[38;5;28;01mas\u001b[39;00m mhatch, lines \u001b[38;5;28;01mas\u001b[39;00m mlines, path \u001b[38;5;28;01mas\u001b[39;00m mpath, transforms)\n\u001b[0;32m     21\u001b[0m \u001b[38;5;28;01mfrom\u001b[39;00m \u001b[38;5;21;01m.\u001b[39;00m\u001b[38;5;21;01m_enums\u001b[39;00m \u001b[38;5;28;01mimport\u001b[39;00m JoinStyle, CapStyle\n\u001b[0;32m     24\u001b[0m \u001b[38;5;66;03m# \"color\" is excluded; it is a compound setter, and its docstring differs\u001b[39;00m\n\u001b[0;32m     25\u001b[0m \u001b[38;5;66;03m# in LineCollection.\u001b[39;00m\n",
      "File \u001b[1;32m~\\anaconda3\\Lib\\site-packages\\matplotlib\\lines.py:14\u001b[0m\n\u001b[0;32m     12\u001b[0m \u001b[38;5;28;01mimport\u001b[39;00m \u001b[38;5;21;01mmatplotlib\u001b[39;00m \u001b[38;5;28;01mas\u001b[39;00m \u001b[38;5;21;01mmpl\u001b[39;00m\n\u001b[0;32m     13\u001b[0m \u001b[38;5;28;01mfrom\u001b[39;00m \u001b[38;5;21;01m.\u001b[39;00m \u001b[38;5;28;01mimport\u001b[39;00m _api, cbook, colors \u001b[38;5;28;01mas\u001b[39;00m mcolors, _docstring\n\u001b[1;32m---> 14\u001b[0m \u001b[38;5;28;01mfrom\u001b[39;00m \u001b[38;5;21;01m.\u001b[39;00m\u001b[38;5;21;01martist\u001b[39;00m \u001b[38;5;28;01mimport\u001b[39;00m Artist, allow_rasterization\n\u001b[0;32m     15\u001b[0m \u001b[38;5;28;01mfrom\u001b[39;00m \u001b[38;5;21;01m.\u001b[39;00m\u001b[38;5;21;01mcbook\u001b[39;00m \u001b[38;5;28;01mimport\u001b[39;00m (\n\u001b[0;32m     16\u001b[0m     _to_unmasked_float_array, ls_mapper, ls_mapper_r, STEP_LOOKUP_MAP)\n\u001b[0;32m     17\u001b[0m \u001b[38;5;28;01mfrom\u001b[39;00m \u001b[38;5;21;01m.\u001b[39;00m\u001b[38;5;21;01mmarkers\u001b[39;00m \u001b[38;5;28;01mimport\u001b[39;00m MarkerStyle\n",
      "\u001b[1;31mModuleNotFoundError\u001b[0m: No module named 'matplotlib.artist'"
     ]
    }
   ],
   "source": [
    "# %load phase_space_plot.py\n",
    "import numpy as np\n",
    "import matplotlib.pyplot as plt\n",
    "\n",
    "def dxdt(x,y):\n",
    "    return y\n",
    "\n",
    "def dydt(x,y,b):\n",
    "    return -2*b*y-np.sin(x)"
   ]
  },
  {
   "cell_type": "code",
   "execution_count": null,
   "id": "d2693706",
   "metadata": {},
   "outputs": [],
   "source": [
    "#w=2 #just a parameter for the max x and y axis coordinates\n",
    "\n",
    "def plotter(w):\n",
    "    \n",
    "    Y,X=np.mgrid[-w:w:1000j,-w:w:1000j]\n",
    "    U,V=dxdt(X,Y),dydt(X,Y,1.5) #creates the vectors\n",
    "    fig,axs=plt.subplots() #creates the plot\n",
    "    axs.streamplot(X,Y,U,V,density=3)\n",
    "    plt.tight_layout()\n",
    "    plt.show()"
   ]
  },
  {
   "cell_type": "code",
   "execution_count": null,
   "id": "d51ee185",
   "metadata": {},
   "outputs": [],
   "source": [
    "plotter(3)"
   ]
  },
  {
   "cell_type": "code",
   "execution_count": null,
   "id": "21a6fa59",
   "metadata": {},
   "outputs": [],
   "source": [
    "def plotter(w):\n",
    "    \n",
    "    Y,X=np.mgrid[-w:w:1000j,-w:w:1000j]\n",
    "    U,V=dxdt(X,Y),dydt(X,Y,0.25) #creates the vectors\n",
    "    fig,axs=plt.subplots() #creates the plot\n",
    "    axs.streamplot(X,Y,U,V,density=3)\n",
    "    plt.tight_layout()\n",
    "    plt.show()"
   ]
  },
  {
   "cell_type": "code",
   "execution_count": null,
   "id": "02bff576",
   "metadata": {},
   "outputs": [],
   "source": [
    "plotter(2)"
   ]
  },
  {
   "cell_type": "code",
   "execution_count": null,
   "id": "9424b11d",
   "metadata": {},
   "outputs": [],
   "source": [
    "def plotter(w):\n",
    "    Y,X=np.mgrid[-w:w:1000j,-w:w:1000j]\n",
    "    U,V=dxdt(X,Y),dydt(X,Y,-0.25) #creates the vectors\n",
    "    fig,axs=plt.subplots() #creates the plot\n",
    "    axs.streamplot(X,Y,U,V,density=3)\n",
    "    plt.tight_layout()\n",
    "    plt.show()"
   ]
  },
  {
   "cell_type": "code",
   "execution_count": null,
   "id": "e7d62fa7",
   "metadata": {},
   "outputs": [],
   "source": [
    "plotter(2)"
   ]
  },
  {
   "cell_type": "code",
   "execution_count": null,
   "id": "18ebadd9",
   "metadata": {},
   "outputs": [],
   "source": [
    "def plotter(w):\n",
    "    \n",
    "    Y,X=np.mgrid[-w:w:1000j,-w:w:1000j]\n",
    "    U,V=dxdt(X,Y),dydt(X,Y,-1.5) #creates the vectors\n",
    "    fig,axs=plt.subplots() #creates the plot\n",
    "    axs.streamplot(X,Y,U,V,density=3)\n",
    "    plt.tight_layout()\n",
    "    plt.show()"
   ]
  },
  {
   "cell_type": "code",
   "execution_count": null,
   "id": "7ba7a1ec",
   "metadata": {},
   "outputs": [],
   "source": [
    "plotter(5)"
   ]
  },
  {
   "cell_type": "markdown",
   "id": "41618af2",
   "metadata": {},
   "source": [
    "### Question 2 part 3"
   ]
  },
  {
   "cell_type": "code",
   "execution_count": null,
   "id": "d6d55040",
   "metadata": {},
   "outputs": [],
   "source": [
    "# %load phase_space_plot.py\n",
    "import numpy as np\n",
    "import matplotlib.pyplot as plt\n",
    "\n",
    "#define xdot and ydot in these functions, use np.sin(x)\n",
    "#and np.cos(x) for sin/cos, they take arguments in radians\n",
    "def dxdt(x,y):\n",
    "    return x - y\n",
    "\n",
    "def dydt(x,y):\n",
    "    return 1 - x*y"
   ]
  },
  {
   "cell_type": "code",
   "execution_count": null,
   "id": "d5c5baf9",
   "metadata": {},
   "outputs": [],
   "source": [
    "def plotter(w):\n",
    "    \n",
    "    Y,X=np.mgrid[-w:w:1000j,-w:w:1000j]\n",
    "    U,V=dxdt(X,Y),dydt(X,Y) #creates the vectors\n",
    "    fig,axs=plt.subplots() #creates the plot\n",
    "    axs.streamplot(X,Y,U,V,density=3)\n",
    "    plt.tight_layout()\n",
    "    plt.show()"
   ]
  },
  {
   "cell_type": "code",
   "execution_count": null,
   "id": "eebb22af",
   "metadata": {},
   "outputs": [],
   "source": [
    "plotter(2)"
   ]
  },
  {
   "cell_type": "markdown",
   "id": "7e299cde",
   "metadata": {},
   "source": [
    "### Question 2 part 2"
   ]
  },
  {
   "cell_type": "code",
   "execution_count": null,
   "id": "159282ac",
   "metadata": {},
   "outputs": [],
   "source": [
    "# %load phase_space_plot.py\n",
    "import numpy as np\n",
    "import matplotlib.pyplot as plt\n",
    "\n",
    "#define xdot and ydot in these functions, use np.sin(x)\n",
    "#and np.cos(x) for sin/cos, they take arguments in radians\n",
    "def dxdt(x,y):\n",
    "    return -y\n",
    "\n",
    "def dydt(x,y):\n",
    "    return 2*x - 4*y"
   ]
  },
  {
   "cell_type": "code",
   "execution_count": null,
   "id": "bbf6187a",
   "metadata": {},
   "outputs": [],
   "source": [
    "plotter(2)"
   ]
  },
  {
   "cell_type": "markdown",
   "id": "970c578c",
   "metadata": {},
   "source": [
    "### Question 2 part 1"
   ]
  },
  {
   "cell_type": "code",
   "execution_count": null,
   "id": "8b653fc3",
   "metadata": {},
   "outputs": [],
   "source": [
    "# %load phase_space_plot.py\n",
    "import numpy as np\n",
    "import matplotlib.pyplot as plt\n",
    "\n",
    "#define xdot and ydot in these functions, use np.sin(x)\n",
    "#and np.cos(x) for sin/cos, they take arguments in radians\n",
    "def dxdt(x,y):\n",
    "    return x+y\n",
    "\n",
    "def dydt(x,y):\n",
    "    return x - 2*y"
   ]
  },
  {
   "cell_type": "code",
   "execution_count": null,
   "id": "d5d8fcd0",
   "metadata": {
    "scrolled": true
   },
   "outputs": [],
   "source": [
    "plotter(3)"
   ]
  },
  {
   "cell_type": "markdown",
   "id": "68ccfef4",
   "metadata": {},
   "source": [
    "## Question 1 : Lotka-Volterra Model"
   ]
  },
  {
   "cell_type": "code",
   "execution_count": null,
   "id": "db561542",
   "metadata": {},
   "outputs": [],
   "source": [
    "# %load phase_space_plot.py\n",
    "import numpy as np\n",
    "import matplotlib.pyplot as plt\n",
    "\n",
    "#define xdot and ydot in these functions, use np.sin(x)\n",
    "#and np.cos(x) for sin/cos, they take arguments in radians\n",
    "def dxdt(x,y):\n",
    "    return x - 0.5*x*y\n",
    "\n",
    "def dydt(x,y):\n",
    "    return 0.6*x*y - 0.2*y"
   ]
  },
  {
   "cell_type": "code",
   "execution_count": null,
   "id": "d9385541",
   "metadata": {},
   "outputs": [],
   "source": [
    "plotter(3)"
   ]
  },
  {
   "cell_type": "markdown",
   "id": "77b1526e",
   "metadata": {},
   "source": [
    "## Question 3 : Forced Oscillator with damping"
   ]
  },
  {
   "cell_type": "markdown",
   "id": "58ce0179",
   "metadata": {},
   "source": [
    "#### Case 1 : $w_0 > 1$"
   ]
  },
  {
   "cell_type": "code",
   "execution_count": null,
   "id": "4e96494a",
   "metadata": {},
   "outputs": [],
   "source": [
    "def plotter(w):\n",
    "    \n",
    "    Y,X=np.mgrid[-w:w:1000j,15:25+w:1000j]\n",
    "    U,V=dxdt(X,Y),dydt(X,Y) #creates the vectors\n",
    "    fig,axs=plt.subplots() #creates the plot\n",
    "    axs.streamplot(X,Y,U,V,density=3)\n",
    "    plt.tight_layout()\n",
    "    plt.show()"
   ]
  },
  {
   "cell_type": "code",
   "execution_count": null,
   "id": "8bd9e137",
   "metadata": {},
   "outputs": [],
   "source": [
    "# %load phase_space_plot.py\n",
    "import numpy as np\n",
    "import matplotlib.pyplot as plt\n",
    "\n",
    "#define xdot and ydot in these functions, use np.sin(x)\n",
    "#and np.cos(x) for sin/cos, they take arguments in radians\n",
    "def dxdt(x,y):\n",
    "    return y\n",
    "\n",
    "def dydt(x,y):\n",
    "    return -x/25 - 2*y + 1"
   ]
  },
  {
   "cell_type": "code",
   "execution_count": null,
   "id": "130cb5c9",
   "metadata": {},
   "outputs": [],
   "source": [
    "plotter(1)"
   ]
  },
  {
   "cell_type": "markdown",
   "id": "d60ce761",
   "metadata": {},
   "source": [
    "#### Case 2: $w_0 = 1$ Resonance condition"
   ]
  },
  {
   "cell_type": "code",
   "execution_count": null,
   "id": "73c08781",
   "metadata": {},
   "outputs": [],
   "source": [
    "# %load phase_space_plot.py\n",
    "import numpy as np\n",
    "import matplotlib.pyplot as plt\n",
    "\n",
    "#define xdot and ydot in these functions, use np.sin(x)\n",
    "#and np.cos(x) for sin/cos, they take arguments in radians\n",
    "def dxdt(x,y):\n",
    "    return y\n",
    "\n",
    "def dydt(x,y):\n",
    "    return -x/25 - y + 1"
   ]
  },
  {
   "cell_type": "code",
   "execution_count": null,
   "id": "7b968a76",
   "metadata": {},
   "outputs": [],
   "source": [
    "plotter(.75)"
   ]
  },
  {
   "cell_type": "markdown",
   "id": "6bdc44b7",
   "metadata": {},
   "source": [
    "#### Case 3 : $w_0 < 1$"
   ]
  },
  {
   "cell_type": "code",
   "execution_count": null,
   "id": "5fa6ded9",
   "metadata": {},
   "outputs": [],
   "source": [
    "# %load phase_space_plot.py\n",
    "import numpy as np\n",
    "import matplotlib.pyplot as plt\n",
    "\n",
    "#define xdot and ydot in these functions, use np.sin(x)\n",
    "#and np.cos(x) for sin/cos, they take arguments in radians\n",
    "def dxdt(x,y):\n",
    "    return y\n",
    "\n",
    "def dydt(x,y):\n",
    "    return -x/25 - 0.2*y + 1"
   ]
  },
  {
   "cell_type": "code",
   "execution_count": null,
   "id": "800f5e76",
   "metadata": {},
   "outputs": [],
   "source": [
    "plotter(0.75)"
   ]
  },
  {
   "cell_type": "markdown",
   "id": "d2827a1f",
   "metadata": {},
   "source": [
    "$w_0 < 0 \\\\ |w_0^2| < 1 $"
   ]
  },
  {
   "cell_type": "code",
   "execution_count": null,
   "id": "5cbb48bd",
   "metadata": {},
   "outputs": [],
   "source": [
    "# %load phase_space_plot.py\n",
    "import numpy as np\n",
    "import matplotlib.pyplot as plt\n",
    "\n",
    "#define xdot and ydot in these functions, use np.sin(x)\n",
    "#and np.cos(x) for sin/cos, they take arguments in radians\n",
    "def dxdt(x,y):\n",
    "    return y\n",
    "\n",
    "def dydt(x,y):\n",
    "    return -x/25 - -0.2*y + 1"
   ]
  },
  {
   "cell_type": "code",
   "execution_count": null,
   "id": "86db5317",
   "metadata": {},
   "outputs": [],
   "source": [
    "plotter(1)"
   ]
  },
  {
   "cell_type": "markdown",
   "id": "8fe5b58d",
   "metadata": {},
   "source": [
    "$w_0 < -1$"
   ]
  },
  {
   "cell_type": "code",
   "execution_count": null,
   "id": "bb72f3f0",
   "metadata": {},
   "outputs": [],
   "source": [
    "#w=2 #just a parameter for the max x and y axis coordinates\n",
    "\n",
    "def plotter(w):\n",
    "    \n",
    "    #the 1000 is the resolution, i think you can keep it the same\n",
    "    #change the -w and w below to whatever you like, they control the\n",
    "    #y axis and x axis limits\n",
    "    Y,X=np.mgrid[-w+4:w:1000j,20:25+w:1000j]\n",
    "    U,V=dxdt(X,Y),dydt(X,Y) #creates the vectors\n",
    "    fig,axs=plt.subplots() #creates the plot\n",
    "    #creates a streamplot from X,Y,U,V\n",
    "    #also density controls how dense the plot is\n",
    "    axs.streamplot(X,Y,U,V,density=3)\n",
    "    plt.tight_layout()\n",
    "    plt.show()"
   ]
  },
  {
   "cell_type": "code",
   "execution_count": null,
   "id": "7b417665",
   "metadata": {},
   "outputs": [],
   "source": [
    "# %load phase_space_plot.py\n",
    "import numpy as np\n",
    "import matplotlib.pyplot as plt\n",
    "\n",
    "#define xdot and ydot in these functions, use np.sin(x)\n",
    "#and np.cos(x) for sin/cos, they take arguments in radians\n",
    "def dxdt(x,y):\n",
    "    return y\n",
    "\n",
    "def dydt(x,y):\n",
    "    return -x/25 + 2*y + 1"
   ]
  },
  {
   "cell_type": "code",
   "execution_count": null,
   "id": "2a91a687",
   "metadata": {},
   "outputs": [],
   "source": [
    "plotter(5)"
   ]
  },
  {
   "cell_type": "code",
   "execution_count": 1,
   "id": "b917d6d2",
   "metadata": {},
   "outputs": [
    {
     "ename": "ModuleNotFoundError",
     "evalue": "No module named 'matplotlib.artist'",
     "output_type": "error",
     "traceback": [
      "\u001b[1;31m---------------------------------------------------------------------------\u001b[0m",
      "\u001b[1;31mModuleNotFoundError\u001b[0m                       Traceback (most recent call last)",
      "Cell \u001b[1;32mIn[1], line 3\u001b[0m\n\u001b[0;32m      1\u001b[0m \u001b[38;5;66;03m# %load phase_space_plot.py\u001b[39;00m\n\u001b[0;32m      2\u001b[0m \u001b[38;5;28;01mimport\u001b[39;00m \u001b[38;5;21;01mnumpy\u001b[39;00m \u001b[38;5;28;01mas\u001b[39;00m \u001b[38;5;21;01mnp\u001b[39;00m\n\u001b[1;32m----> 3\u001b[0m \u001b[38;5;28;01mimport\u001b[39;00m \u001b[38;5;21;01mmatplotlib\u001b[39;00m\u001b[38;5;21;01m.\u001b[39;00m\u001b[38;5;21;01mpyplot\u001b[39;00m \u001b[38;5;28;01mas\u001b[39;00m \u001b[38;5;21;01mplt\u001b[39;00m\n\u001b[0;32m      5\u001b[0m \u001b[38;5;66;03m#define xdot and ydot in these functions, use np.sin(x)\u001b[39;00m\n\u001b[0;32m      6\u001b[0m \u001b[38;5;66;03m#and np.cos(x) for sin/cos, they take arguments in radians\u001b[39;00m\n\u001b[0;32m      7\u001b[0m \u001b[38;5;28;01mdef\u001b[39;00m \u001b[38;5;21mdxdt\u001b[39m(x,y):\n",
      "File \u001b[1;32m~\\anaconda3\\Lib\\site-packages\\matplotlib\\pyplot.py:52\u001b[0m\n\u001b[0;32m     50\u001b[0m \u001b[38;5;28;01mfrom\u001b[39;00m \u001b[38;5;21;01mcycler\u001b[39;00m \u001b[38;5;28;01mimport\u001b[39;00m cycler\n\u001b[0;32m     51\u001b[0m \u001b[38;5;28;01mimport\u001b[39;00m \u001b[38;5;21;01mmatplotlib\u001b[39;00m\n\u001b[1;32m---> 52\u001b[0m \u001b[38;5;28;01mimport\u001b[39;00m \u001b[38;5;21;01mmatplotlib\u001b[39;00m\u001b[38;5;21;01m.\u001b[39;00m\u001b[38;5;21;01mcolorbar\u001b[39;00m\n\u001b[0;32m     53\u001b[0m \u001b[38;5;28;01mimport\u001b[39;00m \u001b[38;5;21;01mmatplotlib\u001b[39;00m\u001b[38;5;21;01m.\u001b[39;00m\u001b[38;5;21;01mimage\u001b[39;00m\n\u001b[0;32m     54\u001b[0m \u001b[38;5;28;01mfrom\u001b[39;00m \u001b[38;5;21;01mmatplotlib\u001b[39;00m \u001b[38;5;28;01mimport\u001b[39;00m _api\n",
      "File \u001b[1;32m~\\anaconda3\\Lib\\site-packages\\matplotlib\\colorbar.py:19\u001b[0m\n\u001b[0;32m     16\u001b[0m \u001b[38;5;28;01mimport\u001b[39;00m \u001b[38;5;21;01mnumpy\u001b[39;00m \u001b[38;5;28;01mas\u001b[39;00m \u001b[38;5;21;01mnp\u001b[39;00m\n\u001b[0;32m     18\u001b[0m \u001b[38;5;28;01mimport\u001b[39;00m \u001b[38;5;21;01mmatplotlib\u001b[39;00m \u001b[38;5;28;01mas\u001b[39;00m \u001b[38;5;21;01mmpl\u001b[39;00m\n\u001b[1;32m---> 19\u001b[0m \u001b[38;5;28;01mfrom\u001b[39;00m \u001b[38;5;21;01mmatplotlib\u001b[39;00m \u001b[38;5;28;01mimport\u001b[39;00m _api, cbook, collections, cm, colors, contour, ticker\n\u001b[0;32m     20\u001b[0m \u001b[38;5;28;01mimport\u001b[39;00m \u001b[38;5;21;01mmatplotlib\u001b[39;00m\u001b[38;5;21;01m.\u001b[39;00m\u001b[38;5;21;01martist\u001b[39;00m \u001b[38;5;28;01mas\u001b[39;00m \u001b[38;5;21;01mmartist\u001b[39;00m\n\u001b[0;32m     21\u001b[0m \u001b[38;5;28;01mimport\u001b[39;00m \u001b[38;5;21;01mmatplotlib\u001b[39;00m\u001b[38;5;21;01m.\u001b[39;00m\u001b[38;5;21;01mpatches\u001b[39;00m \u001b[38;5;28;01mas\u001b[39;00m \u001b[38;5;21;01mmpatches\u001b[39;00m\n",
      "File \u001b[1;32m~\\anaconda3\\Lib\\site-packages\\matplotlib\\collections.py:19\u001b[0m\n\u001b[0;32m     16\u001b[0m \u001b[38;5;28;01mimport\u001b[39;00m \u001b[38;5;21;01mnumpy\u001b[39;00m \u001b[38;5;28;01mas\u001b[39;00m \u001b[38;5;21;01mnp\u001b[39;00m\n\u001b[0;32m     18\u001b[0m \u001b[38;5;28;01mimport\u001b[39;00m \u001b[38;5;21;01mmatplotlib\u001b[39;00m \u001b[38;5;28;01mas\u001b[39;00m \u001b[38;5;21;01mmpl\u001b[39;00m\n\u001b[1;32m---> 19\u001b[0m \u001b[38;5;28;01mfrom\u001b[39;00m \u001b[38;5;21;01m.\u001b[39;00m \u001b[38;5;28;01mimport\u001b[39;00m (_api, _path, artist, cbook, cm, colors \u001b[38;5;28;01mas\u001b[39;00m mcolors, _docstring,\n\u001b[0;32m     20\u001b[0m                hatch \u001b[38;5;28;01mas\u001b[39;00m mhatch, lines \u001b[38;5;28;01mas\u001b[39;00m mlines, path \u001b[38;5;28;01mas\u001b[39;00m mpath, transforms)\n\u001b[0;32m     21\u001b[0m \u001b[38;5;28;01mfrom\u001b[39;00m \u001b[38;5;21;01m.\u001b[39;00m\u001b[38;5;21;01m_enums\u001b[39;00m \u001b[38;5;28;01mimport\u001b[39;00m JoinStyle, CapStyle\n\u001b[0;32m     24\u001b[0m \u001b[38;5;66;03m# \"color\" is excluded; it is a compound setter, and its docstring differs\u001b[39;00m\n\u001b[0;32m     25\u001b[0m \u001b[38;5;66;03m# in LineCollection.\u001b[39;00m\n",
      "File \u001b[1;32m~\\anaconda3\\Lib\\site-packages\\matplotlib\\lines.py:14\u001b[0m\n\u001b[0;32m     12\u001b[0m \u001b[38;5;28;01mimport\u001b[39;00m \u001b[38;5;21;01mmatplotlib\u001b[39;00m \u001b[38;5;28;01mas\u001b[39;00m \u001b[38;5;21;01mmpl\u001b[39;00m\n\u001b[0;32m     13\u001b[0m \u001b[38;5;28;01mfrom\u001b[39;00m \u001b[38;5;21;01m.\u001b[39;00m \u001b[38;5;28;01mimport\u001b[39;00m _api, cbook, colors \u001b[38;5;28;01mas\u001b[39;00m mcolors, _docstring\n\u001b[1;32m---> 14\u001b[0m \u001b[38;5;28;01mfrom\u001b[39;00m \u001b[38;5;21;01m.\u001b[39;00m\u001b[38;5;21;01martist\u001b[39;00m \u001b[38;5;28;01mimport\u001b[39;00m Artist, allow_rasterization\n\u001b[0;32m     15\u001b[0m \u001b[38;5;28;01mfrom\u001b[39;00m \u001b[38;5;21;01m.\u001b[39;00m\u001b[38;5;21;01mcbook\u001b[39;00m \u001b[38;5;28;01mimport\u001b[39;00m (\n\u001b[0;32m     16\u001b[0m     _to_unmasked_float_array, ls_mapper, ls_mapper_r, STEP_LOOKUP_MAP)\n\u001b[0;32m     17\u001b[0m \u001b[38;5;28;01mfrom\u001b[39;00m \u001b[38;5;21;01m.\u001b[39;00m\u001b[38;5;21;01mmarkers\u001b[39;00m \u001b[38;5;28;01mimport\u001b[39;00m MarkerStyle\n",
      "\u001b[1;31mModuleNotFoundError\u001b[0m: No module named 'matplotlib.artist'"
     ]
    }
   ],
   "source": [
    "# %load phase_space_plot.py\n",
    "import numpy as np\n",
    "import matplotlib.pyplot as plt\n",
    "\n",
    "#define xdot and ydot in these functions, use np.sin(x)\n",
    "#and np.cos(x) for sin/cos, they take arguments in radians\n",
    "def dxdt(x,y):\n",
    "    return y\n",
    "\n",
    "def dydt(x,y):\n",
    "    return -x/25 - 2*y + 2"
   ]
  },
  {
   "cell_type": "code",
   "execution_count": null,
   "id": "b509d241",
   "metadata": {},
   "outputs": [],
   "source": []
  }
 ],
 "metadata": {
  "kernelspec": {
   "display_name": "Python 3 (ipykernel)",
   "language": "python",
   "name": "python3"
  },
  "language_info": {
   "codemirror_mode": {
    "name": "ipython",
    "version": 3
   },
   "file_extension": ".py",
   "mimetype": "text/x-python",
   "name": "python",
   "nbconvert_exporter": "python",
   "pygments_lexer": "ipython3",
   "version": "3.11.4"
  }
 },
 "nbformat": 4,
 "nbformat_minor": 5
}
