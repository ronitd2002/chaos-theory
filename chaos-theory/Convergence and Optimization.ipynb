{
 "cells": [
  {
   "cell_type": "markdown",
   "id": "29d370cd",
   "metadata": {},
   "source": [
    "Newton Method"
   ]
  },
  {
   "cell_type": "markdown",
   "id": "ffce3330",
   "metadata": {},
   "source": [
    "Secant Method"
   ]
  },
  {
   "cell_type": "markdown",
   "id": "5ffcdcea",
   "metadata": {},
   "source": [
    "Gradient Descent"
   ]
  },
  {
   "cell_type": "code",
   "execution_count": null,
   "id": "391d83dc",
   "metadata": {},
   "outputs": [],
   "source": []
  }
 ],
 "metadata": {
  "kernelspec": {
   "display_name": "Python 3 (ipykernel)",
   "language": "python",
   "name": "python3"
  },
  "language_info": {
   "codemirror_mode": {
    "name": "ipython",
    "version": 3
   },
   "file_extension": ".py",
   "mimetype": "text/x-python",
   "name": "python",
   "nbconvert_exporter": "python",
   "pygments_lexer": "ipython3",
   "version": "3.11.4"
  }
 },
 "nbformat": 4,
 "nbformat_minor": 5
}
